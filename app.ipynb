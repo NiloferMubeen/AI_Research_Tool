{
 "cells": [
  {
   "cell_type": "code",
   "execution_count": 1,
   "metadata": {},
   "outputs": [
    {
     "data": {
      "text/plain": [
       "True"
      ]
     },
     "execution_count": 1,
     "metadata": {},
     "output_type": "execute_result"
    }
   ],
   "source": [
    "import os\n",
    "from dotenv import load_dotenv\n",
    "load_dotenv()"
   ]
  },
  {
   "cell_type": "code",
   "execution_count": 2,
   "metadata": {},
   "outputs": [],
   "source": [
    "groq_api_key = os.getenv('GROQ_API_KEY')"
   ]
  },
  {
   "cell_type": "code",
   "execution_count": 21,
   "metadata": {},
   "outputs": [],
   "source": [
    "from langchain_groq import ChatGroq\n",
    "\n",
    "llm = ChatGroq(model = 'llama3-8b-8192',groq_api_key=groq_api_key)"
   ]
  },
  {
   "cell_type": "markdown",
   "metadata": {},
   "source": [
    "### 1) Url loader"
   ]
  },
  {
   "cell_type": "code",
   "execution_count": 27,
   "metadata": {},
   "outputs": [],
   "source": [
    "from langchain.document_loaders import UnstructuredURLLoader\n",
    "\n",
    "urls = [\n",
    "    \"https://www.moneycontrol.com/news/business/companies/honeywell-automation-indias-q2-profit-falls-on-sluggish-demand-12854355.html#goog_rewarded\",\n",
    "    \"https://www.moneycontrol.com/news/business/companies/torrent-pharma-promoters-likely-to-sell-shares-worth-up-to-rs-3000-cr-via-block-deals-reports-12854399.html\",\n",
    "    \"https://www.moneycontrol.com/news/business/markets/federal-bank-q2-fy25-welcoming-the-new-boss-with-a-steady-show-12853544.html#goog_rewarded\"\n",
    "]"
   ]
  },
  {
   "cell_type": "code",
   "execution_count": 28,
   "metadata": {},
   "outputs": [],
   "source": [
    "loader = UnstructuredURLLoader(urls=urls)\n",
    "data = loader.load()"
   ]
  },
  {
   "cell_type": "markdown",
   "metadata": {},
   "source": [
    "### 2) Text splitter"
   ]
  },
  {
   "cell_type": "code",
   "execution_count": 29,
   "metadata": {},
   "outputs": [],
   "source": [
    "from langchain_text_splitters import RecursiveCharacterTextSplitter\n",
    "\n",
    "splitter = RecursiveCharacterTextSplitter(\n",
    "                separators=['\\n\\n', '\\n', '.', ','],\n",
    "                chunk_size=1000,\n",
    "                chunk_overlap = 0\n",
    "            )\n",
    "\n",
    "chunks = splitter.split_documents(data)"
   ]
  },
  {
   "cell_type": "code",
   "execution_count": 41,
   "metadata": {},
   "outputs": [
    {
     "data": {
      "text/plain": [
       "[Document(metadata={'source': 'https://www.moneycontrol.com/news/business/companies/honeywell-automation-indias-q2-profit-falls-on-sluggish-demand-12854355.html#goog_rewarded'}, page_content=\"English\\n\\nHindi\\n\\nGujarati\\n\\nSpecials\\n\\nHello, Login\\n\\nHello, Login\\n\\nLog-inor Sign-Up\\n\\nMy Account\\n\\nMy Profile\\n\\nMy Portfolio\\n\\nMy Watchlist\\n\\nLoans up to ₹15 LAKHS\\n\\nFixed Deposits\\n\\nCredit CardsLifetime Free\\n\\nCredit Score\\n\\nMy Alerts\\n\\nMy Messages\\n\\nPrice Alerts\\n\\nMy Profile\\n\\nMy PRO\\n\\nMy Portfolio\\n\\nMy Watchlist\\n\\nLoans up to ₹15 LAKHS\\n\\nFixed Deposits\\n\\nCredit CardsLifetime Free\\n\\nCredit Score\\n\\nMy Alerts\\n\\nMy Messages\\n\\nPrice Alerts\\n\\nLogout\\n\\nChat with Us\\n\\nDownload App\\n\\nFollow us on:\\n\\nGo Ad-Free\\n\\nMy Alerts\\n\\n>->MC_ENG_DESKTOP/MC_ENG_NEWS/MC_ENG_BUSINESS_AS/MC_ENG_ROS_NWS_BUS_AS_ATF_728\\n\\nGo PRO @₹99 PRO\\n\\nAdvertisement\\n\\nRemove Ad\\n\\nBusiness\\n\\nMarkets\\n\\nStocks\\n\\nEconomy\\n\\nCompanies\\n\\nTrends\\n\\nIPO\\n\\nOpinion\\n\\nEV Special\\n\\nHomeNewsBusinessCompaniesHoneywell Automation India's Q2 profit falls on sluggish demand\\n\\nTrending Topics\\n\\nBusiness News LiveSwiggy IPO DateDeepak Builders Share PriceDiwali Muhurat Trading 2024Gold Price Today\\n\\nHoneywell Automation India's Q2 profit falls on sluggish demand\"),\n",
       " Document(metadata={'source': 'https://www.moneycontrol.com/news/business/companies/honeywell-automation-indias-q2-profit-falls-on-sluggish-demand-12854355.html#goog_rewarded'}, page_content=\"Engineering firm Honeywell Automation India reported a 5.6% fall in its second-quarter profit on Tuesday, hurt by slowing demand. The Indian a..\\n\\nReuters\\n\\nOctober 29, 2024 / 21:28 IST\\n\\nHoneywell\\n\\nWatchlist\\n\\nPortfolio\\n\\nMessage\\n\\nSet Alert\\n\\nlive\\n\\nbselive\\n\\nnselive\\n\\nVolume\\n\\nTodays L/H\\n\\nMore\\n\\nEngineering firm Honeywell Automation India reported a 5.6 percent fall in its second-quarter profit on Tuesday, hurt by slowing demand.\\n\\nThe Indian arm of US conglomerate Honeywell International said its profit fell to Rs 115 crore ($13.7 million) for the three months ending September 30, from Rs 122 crore a year ago.\\n\\nStory continues below Advertisement\\n\\nRemove Ad\\n\\nHoneywell Automation India provides building automation solutions to industrial clients and designs emission-curbing and energy transition products. Growth in India's manufacturing industry cooled in August and September, according to a business survey.\"),\n",
       " Document(metadata={'source': 'https://www.moneycontrol.com/news/business/companies/honeywell-automation-indias-q2-profit-falls-on-sluggish-demand-12854355.html#goog_rewarded'}, page_content=\"Analysts have said that Indian exporters are bearing the brunt of increased shipping costs due to the Red Sea crisis.\\n\\nHoneywell Automation's revenue from operations fell 7.3 percent to Rs 1,024 crore. The company does not provide a breakdown of its revenue distribution. Cost of materials consumed, which makes up almost half of the expenses, grew 12.11 percent in the quarter.\\n\\nParent company Honeywell projected annual sales below Wall Street expectations and missed quarterly revenue estimates last week. Honeywell Automation's stock, one of India's costliest, closed 0.3 percent up ahead of its results. The shares have risen nearly 33 percent so far this year, while that of rival ABB India have jumped about 60 percent.\\n\\nReuters\\n\\nTags: #Honeywell Automation #Results\\n\\nfirst published: Oct 29, 2024 09:28 pm\\n\\nTop Trends\\n\\nAngel TaxWiproBudget newsNew Income tax slabIPO News\\n\\nAdvertisement\\n\\nRemove Ad\\n\\nAdvertisement\\n\\nRemove Ad\\n\\nAdvertisement\\n\\nRemove Ad\\n\\nAdvertisement\\n\\nRemove Ad\\n\\nAdvertisement\"),\n",
       " Document(metadata={'source': 'https://www.moneycontrol.com/news/business/companies/honeywell-automation-indias-q2-profit-falls-on-sluggish-demand-12854355.html#goog_rewarded'}, page_content='Remove Ad\\n\\nAdvertisement\\n\\nRemove Ad\\n\\nAdvisory Alert:\\n\\nForum Facebook Twitter Instagram Linkedin RSS\\n\\nPortfolio\\n\\nMarkets\\n\\nLoans up to ₹15 LAKHS\\n\\nWatchlist\\n\\nLive TV Show\\n\\nCurrencies\\n\\nCredit CardsLifetime Free\\n\\nCredit Score\\n\\nFinance Tracker\\n\\nCommodities\\n\\nFixed Deposits\\n\\nFixed Income\\n\\nPersonal Finance\\n\\nMutual Fund\\n\\nPre-Market\\n\\nIPO\\n\\nGlobal Market\\n\\nBudget 2024\\n\\nElections 2024\\n\\nGold Rate\\n\\nBSE Sensex\\n\\nForum\\n\\nMC 30\\n\\nNews\\n\\nBusiness\\n\\nMarkets\\n\\nStocks\\n\\nIncome Tax Calculator\\n\\nElection Schedule 2024\\n\\nIndia News\\n\\nEconomy\\n\\nMutual Funds\\n\\nPersonal Finance\\n\\nIPO News\\n\\nStartups\\n\\nStocks: A | B | C | D | E | F | G | H | I | J | K | L | M | N | O | P | Q | R | S | T | U | V | W | X | Y | Z | Others\\n\\nMutual Funds: A | B | C | D | E | F | G | H | I | J | K | L | M | N | O | P | Q | R | S | T | U | V | W | X | Y | Z\\n\\nVisit the App Store to see all our apps:\\n\\nDownload from Google PlayDownload from APP StoreDownload from Windows Phone\\n\\nTools\\n\\nRetirement Planning\\n\\nEMI Calculator\\n\\nSIP Calculator\\n\\nSIP Planner'),\n",
       " Document(metadata={'source': 'https://www.moneycontrol.com/news/business/companies/honeywell-automation-indias-q2-profit-falls-on-sluggish-demand-12854355.html#goog_rewarded'}, page_content='Useful Links\\n\\nCrypto News\\n\\nBank Holidays in India\\n\\nGold Rate Today\\n\\nSilver Rate Today\\n\\nTrending News\\n\\nStartups\\n\\nNational News\\n\\nMC Videos\\n\\nMC You Tube\\n\\nHouse Purchase Index\\n\\nBest Portfolio Manager\\n\\nSmall Savings Schemes\\n\\nBonds\\n\\nTopperLearning\\n\\nClear Study Doubts\\n\\nEducation Franchisee Opportunity\\n\\nSpecials\\n\\nMaster Your Money\\n\\nGame Changers\\n\\nInvestment Watch\\n\\nPowerYourTrade\\n\\nFocus\\n\\nSME Step Up\\n\\nNetwork 18 Sites\\n\\nNews18\\n\\nFirstpost\\n\\nCNBC TV18\\n\\nNews18 Hindi\\n\\nCricketnext\\n\\nOverdrive\\n\\nTopper Learning\\n\\nAbout us | Contact Us | Advisory Alert | Advertise with Us | Support | Disclaimer | Privacy Policy | Cookie Policy | Terms & Conditions | Careers | Financial Terms (Glossary) | FAQs | Sitemap | RSS Feed | Investors\\n\\nCopyright © e-Eighteen.com Ltd. All rights reserved. Reproduction of news articles, photos, videos or any other content in whole or in part in any form or medium without express writtern permission of moneycontrol.com is prohibited.\\n\\nYou got 30 Day’s Trial of\\n\\nGrab it Now'),\n",
       " Document(metadata={'source': 'https://www.moneycontrol.com/news/business/companies/honeywell-automation-indias-q2-profit-falls-on-sluggish-demand-12854355.html#goog_rewarded'}, page_content='Ad-Free Experience\\n\\nTop Articles from Financial Times\\n\\nActionable Insights\\n\\nMC Research\\n\\nEconomic Calendar\\n\\n& Many More\\n\\nYou are already a Moneycontrol Pro user.\\n\\n101Reporters'),\n",
       " Document(metadata={'source': 'https://www.moneycontrol.com/news/business/companies/torrent-pharma-promoters-likely-to-sell-shares-worth-up-to-rs-3000-cr-via-block-deals-reports-12854399.html'}, page_content='English\\n\\nHindi\\n\\nGujarati\\n\\nSpecials\\n\\nHello, Login\\n\\nHello, Login\\n\\nLog-inor Sign-Up\\n\\nMy Account\\n\\nMy Profile\\n\\nMy Portfolio\\n\\nMy Watchlist\\n\\nLoans up to ₹15 LAKHS\\n\\nFixed Deposits\\n\\nCredit CardsLifetime Free\\n\\nCredit Score\\n\\nMy Alerts\\n\\nMy Messages\\n\\nPrice Alerts\\n\\nMy Profile\\n\\nMy PRO\\n\\nMy Portfolio\\n\\nMy Watchlist\\n\\nLoans up to ₹15 LAKHS\\n\\nFixed Deposits\\n\\nCredit CardsLifetime Free\\n\\nCredit Score\\n\\nMy Alerts\\n\\nMy Messages\\n\\nPrice Alerts\\n\\nLogout\\n\\nChat with Us\\n\\nDownload App\\n\\nFollow us on:\\n\\nGo Ad-Free\\n\\nMy Alerts\\n\\n>->MC_ENG_DESKTOP/MC_ENG_NEWS/MC_ENG_BUSINESS_AS/MC_ENG_ROS_NWS_BUS_AS_ATF_728\\n\\nGo PRO @₹99 PRO\\n\\nAdvertisement\\n\\nRemove Ad\\n\\nBusiness\\n\\nMarkets\\n\\nStocks\\n\\nEconomy\\n\\nCompanies\\n\\nTrends\\n\\nIPO\\n\\nOpinion\\n\\nEV Special\\n\\nHomeNewsBusinessCompaniesTorrent Pharma promoters likely to sell shares worth up to Rs 3,000 cr via block deals: Reports\\n\\nTrending Topics\\n\\nBusiness News LiveSwiggy IPO DateDeepak Builders Share PriceDiwali Muhurat Trading 2024Gold Price Today'),\n",
       " Document(metadata={'source': 'https://www.moneycontrol.com/news/business/companies/torrent-pharma-promoters-likely-to-sell-shares-worth-up-to-rs-3000-cr-via-block-deals-reports-12854399.html'}, page_content='Torrent Pharma promoters likely to sell shares worth up to Rs 3,000 cr via block deals: Reports\\n\\nThe shares are likely to be sold at a floor price of Rs 3022.7 apiece, which is at a nearly six percent discount to current market price\\n\\nMoneycontrol News\\n\\nOctober 29, 2024 / 23:04 IST\\n\\nTorrent Pharma\\n\\nWatchlist\\n\\nPortfolio\\n\\nMessage\\n\\nSet Alert\\n\\nlive\\n\\nbselive\\n\\nnselive\\n\\nVolume\\n\\nTodays L/H\\n\\nMore\\n\\nPromoter Torrent Investments Private Limited is likely to sell up to 2.9 percent of Torrent Pharma shares worth up to Rs 3,000 crore through block deals, CNBC-TV18 reported on October 29 citing sources.\\n\\nThe shares are likely to be sold at a floor price of Rs 3,022.7 apiece, according to the report. This is at a nearly six percent discount to current market price, CNBC-Awaaz reported separately.\\n\\nStory continues below Advertisement\\n\\nRemove Ad'),\n",
       " Document(metadata={'source': 'https://www.moneycontrol.com/news/business/companies/torrent-pharma-promoters-likely-to-sell-shares-worth-up-to-rs-3000-cr-via-block-deals-reports-12854399.html'}, page_content=\"While base size of the issue is 83 lakh shares, translating to 2.4 percent of total equity worth Rs 2,500 crore, it will have an greenshoe option of 16.5 lakh shares, worth Rs 500 crore, CNBC-Awaaz added.\\n\\nThere will be a lock up of 120 days for further sale of shares, CNBC-TV18 reported.\\n\\nOn October 29, Torrent Pharma's shares on NSE closed trading 3.31 percent lower at Rs 3,207 apiece.\\n\\nAs of September 30, 2024, Torrent Investments had 71.25 percent stake in the company, showed exchange data.\\n\\nMoneycontrol News\\n\\nTags: #Torrent Pharma\\n\\nfirst published: Oct 29, 2024 10:51 pm\\n\\nTop Trends\\n\\nAngel TaxWiproBudget newsNew Income tax slabIPO News\\n\\nAdvertisement\\n\\nRemove Ad\\n\\nAdvertisement\\n\\nRemove Ad\\n\\nAdvertisement\\n\\nRemove Ad\\n\\nAdvertisement\\n\\nRemove Ad\\n\\nAdvertisement\\n\\nRemove Ad\\n\\nAdvertisement\\n\\nRemove Ad\\n\\nAdvisory Alert:\\n\\nForum Facebook Twitter Instagram Linkedin RSS\\n\\nPortfolio\\n\\nMarkets\\n\\nLoans up to ₹15 LAKHS\\n\\nWatchlist\\n\\nLive TV Show\\n\\nCurrencies\\n\\nCredit CardsLifetime Free\\n\\nCredit Score\"),\n",
       " Document(metadata={'source': 'https://www.moneycontrol.com/news/business/companies/torrent-pharma-promoters-likely-to-sell-shares-worth-up-to-rs-3000-cr-via-block-deals-reports-12854399.html'}, page_content='Finance Tracker\\n\\nCommodities\\n\\nFixed Deposits\\n\\nFixed Income\\n\\nPersonal Finance\\n\\nMutual Fund\\n\\nPre-Market\\n\\nIPO\\n\\nGlobal Market\\n\\nBudget 2024\\n\\nElections 2024\\n\\nGold Rate\\n\\nBSE Sensex\\n\\nForum\\n\\nMC 30\\n\\nNews\\n\\nBusiness\\n\\nMarkets\\n\\nStocks\\n\\nIncome Tax Calculator\\n\\nElection Schedule 2024\\n\\nIndia News\\n\\nEconomy\\n\\nMutual Funds\\n\\nPersonal Finance\\n\\nIPO News\\n\\nStartups\\n\\nStocks: A | B | C | D | E | F | G | H | I | J | K | L | M | N | O | P | Q | R | S | T | U | V | W | X | Y | Z | Others\\n\\nMutual Funds: A | B | C | D | E | F | G | H | I | J | K | L | M | N | O | P | Q | R | S | T | U | V | W | X | Y | Z\\n\\nVisit the App Store to see all our apps:\\n\\nDownload from Google PlayDownload from APP StoreDownload from Windows Phone\\n\\nTools\\n\\nRetirement Planning\\n\\nEMI Calculator\\n\\nSIP Calculator\\n\\nSIP Planner\\n\\nUseful Links\\n\\nCrypto News\\n\\nBank Holidays in India\\n\\nGold Rate Today\\n\\nSilver Rate Today\\n\\nTrending News\\n\\nStartups\\n\\nNational News\\n\\nMC Videos\\n\\nMC You Tube\\n\\nHouse Purchase Index\\n\\nBest Portfolio Manager\\n\\nSmall Savings Schemes\\n\\nBonds'),\n",
       " Document(metadata={'source': 'https://www.moneycontrol.com/news/business/companies/torrent-pharma-promoters-likely-to-sell-shares-worth-up-to-rs-3000-cr-via-block-deals-reports-12854399.html'}, page_content='TopperLearning\\n\\nClear Study Doubts\\n\\nEducation Franchisee Opportunity\\n\\nSpecials\\n\\nMaster Your Money\\n\\nGame Changers\\n\\nInvestment Watch\\n\\nPowerYourTrade\\n\\nFocus\\n\\nSME Step Up\\n\\nNetwork 18 Sites\\n\\nNews18\\n\\nFirstpost\\n\\nCNBC TV18\\n\\nNews18 Hindi\\n\\nCricketnext\\n\\nOverdrive\\n\\nTopper Learning\\n\\nAbout us | Contact Us | Advisory Alert | Advertise with Us | Support | Disclaimer | Privacy Policy | Cookie Policy | Terms & Conditions | Careers | Financial Terms (Glossary) | FAQs | Sitemap | RSS Feed | Investors\\n\\nCopyright © e-Eighteen.com Ltd. All rights reserved. Reproduction of news articles, photos, videos or any other content in whole or in part in any form or medium without express writtern permission of moneycontrol.com is prohibited.\\n\\nYou got 30 Day’s Trial of\\n\\nGrab it Now\\n\\nAd-Free Experience\\n\\nTop Articles from Financial Times\\n\\nActionable Insights\\n\\nMC Research\\n\\nEconomic Calendar\\n\\n& Many More\\n\\nYou are already a Moneycontrol Pro user.\\n\\nDebasis Basak'),\n",
       " Document(metadata={'source': 'https://www.moneycontrol.com/news/business/markets/federal-bank-q2-fy25-welcoming-the-new-boss-with-a-steady-show-12853544.html#goog_rewarded'}, page_content='English\\n\\nHindi\\n\\nGujarati\\n\\nSpecials\\n\\nHello, Login\\n\\nHello, Login\\n\\nLog-inor Sign-Up\\n\\nMy Account\\n\\nMy Profile\\n\\nMy Portfolio\\n\\nMy Watchlist\\n\\nLoans up to ₹15 LAKHS\\n\\nFixed Deposits\\n\\nCredit CardsLifetime Free\\n\\nCredit Score\\n\\nMy Alerts\\n\\nMy Messages\\n\\nPrice Alerts\\n\\nMy Profile\\n\\nMy PRO\\n\\nMy Portfolio\\n\\nMy Watchlist\\n\\nLoans up to ₹15 LAKHS\\n\\nFixed Deposits\\n\\nCredit CardsLifetime Free\\n\\nCredit Score\\n\\nMy Alerts\\n\\nMy Messages\\n\\nPrice Alerts\\n\\nLogout\\n\\nChat with Us\\n\\nDownload App\\n\\nFollow us on:\\n\\nGo Ad-Free\\n\\nMy Alerts\\n\\n>->MC_ENG_DESKTOP/MC_ENG_NEWS/MC_ENG_MARKETS_AS/MC_ENG_ROS_NWS_MKTS_AS_ATF_728\\n\\nGo PRO @₹99 PRO\\n\\nAdvertisement\\n\\nRemove Ad\\n\\nBusiness\\n\\nMarkets\\n\\nStocks\\n\\nEconomy\\n\\nCompanies\\n\\nTrends\\n\\nIPO\\n\\nOpinion\\n\\nEV Special\\n\\nHomeNewsBusinessMarketsFederal Bank Q2 FY25 – welcoming the new boss with a steady show\\n\\nTrending Topics\\n\\nSensex TodayElcid investment shareFederal Bank Share PriceGillette India Share PriceSuzlon Energy Share Price\\n\\nFederal Bank Q2 FY25 – welcoming the new boss with a steady show'),\n",
       " Document(metadata={'source': 'https://www.moneycontrol.com/news/business/markets/federal-bank-q2-fy25-welcoming-the-new-boss-with-a-steady-show-12853544.html#goog_rewarded'}, page_content='Loan growth strong, deposit mix improving, steady interest margin, and good asset quality\\n\\nMadhuchanda Dey\\n\\nOctober 29, 2024 / 11:52 IST\\n\\nFederal\\n\\nUnlock this article at ₹1 Highlights - Quarterly performance largely backed by improved realisations - Medium-term triggers China plus and protectionist measures for tyre industry - Valuations not inexpensive; but improved medium-term outlook\\n\\nHighlights\\n\\nGood quarter from Federal Bank\\n\\nLoan growth maintains momentum, ahead of deposits growth\\n\\nSluggish deposits but with improved contribution from CASA\\n\\nReported margin declines due to penal charge accounting change, actual margin improves\\n\\nFees and treasury both lend solid support\\n\\nAsset quality strong and low share of unsecured should help\\n\\nLikely to articulate strategy for long-term margin gains\\n\\nMargin, fees and costs – three-pronged strategy to gradually lift RoA\\n\\nWe see steady rerating as RoA improves\\n\\nFederal Bank’s (CMP: Rs 185, Market cap: Rs 45,370\\n\\nWatch Webinar'),\n",
       " Document(metadata={'source': 'https://www.moneycontrol.com/news/business/markets/federal-bank-q2-fy25-welcoming-the-new-boss-with-a-steady-show-12853544.html#goog_rewarded'}, page_content=\"Pro Masters Virtual: Watch the webinar on ‘Identification of Swing / Positional Opportunities – Charts Insights’ with Bharat Sharma Watch more\\n\\nPro Masters Virtual: Watch the webinar on ‘Investing in Multi Asset Allocation Funds’ with Chintan Haria Watch more\\n\\nPro Masters Virtual: India on cusp of growth take-off, by Vaibhav Agrawal Watch more\\n\\nPro Masters Virtual: Watch ‘Commodity: Gold Investments’ with Somasundaram PR Watch more\\n\\nPro Masters Virtual: Watch “Multicap Funds: A Perfect Balance Between Growth & Stability” with R Srinivasan, Ruchit Mehta, Sukanya Ghosh, Priyanka Dhingra, Saurabh Pant and Nidhi Chawla Watch more\\n\\nPro Masters Virtual: Watch 'Inter-Market Analysis – How Macro Factors Impact Market Direction?' with Rohit Srivastava Watch more\\n\\nPro Masters Virtual: Watch “Kagi Charts - The Forgotten Technical Analysis Technique” with Brijesh Bhatia Watch more\\n\\nPRO Panorama\\n\\nMoneycontrol Pro Panorama | Indian stocks on a sticky wicket ahead of US elections\"),\n",
       " Document(metadata={'source': 'https://www.moneycontrol.com/news/business/markets/federal-bank-q2-fy25-welcoming-the-new-boss-with-a-steady-show-12853544.html#goog_rewarded'}, page_content=\"Oct 29, 2024 / 02:56 PM IST\\n\\nIn Moneycontrol Pro Panorama October 29 edition: Traders must analyse data before next move, can BRICS overthrow the US dollar, la...\\n\\nRead Now\\n\\nPRO Weekender\\n\\nMoneycontrol Pro Weekender | There's much to celebrate even as dark clouds gather\\n\\nOct 26, 2024 / 10:00 AM IST\\n\\nThe Indian markets are having a much-needed correction; what should investors do? Our MC Pro Diwali 2024 portfolio has the answer\\n\\nRead Now\\n\\nUnlock this article at ₹1\\n\\nAre you a PRO subscriber? Sign In\\n\\nWhat Do You Get\\n\\nAd free Experience\\n\\nSeamless navigation, faster responses.\\n\\nExpert Perspective\\n\\nExplore 230+ exclusive editorials every month\\n\\nUncover Insights from World-Renowned Experts and Journalists\\n\\nActionable Insights\\n\\n40+ weekly investment ideas + 3 to 4 daily technical calls\\n\\nVirtual Events\\n\\nExclusive Live Webinars for Expert Trading & Investment Strategies!\\n\\nNewsletters\\n\\nStay ahead with daily and weekly insights\\n\\nView Offers\\n\\nUnlock exclusive discounts\")]"
      ]
     },
     "execution_count": 41,
     "metadata": {},
     "output_type": "execute_result"
    }
   ],
   "source": [
    "chunks"
   ]
  },
  {
   "cell_type": "markdown",
   "metadata": {},
   "source": [
    "### 3) Building vector embeddings"
   ]
  },
  {
   "cell_type": "code",
   "execution_count": 30,
   "metadata": {},
   "outputs": [],
   "source": [
    "from langchain.embeddings import HuggingFaceEmbeddings\n",
    "from sentence_transformers import SentenceTransformer"
   ]
  },
  {
   "cell_type": "code",
   "execution_count": 31,
   "metadata": {},
   "outputs": [],
   "source": [
    "\n",
    "hf_embeddings = HuggingFaceEmbeddings(model_name = 'sentence-transformers/all-MiniLM-L6-v2')"
   ]
  },
  {
   "cell_type": "markdown",
   "metadata": {},
   "source": [
    "### 4) Store the embeddings in Vectordb"
   ]
  },
  {
   "cell_type": "code",
   "execution_count": 32,
   "metadata": {},
   "outputs": [],
   "source": [
    "from langchain_community.vectorstores import FAISS"
   ]
  },
  {
   "cell_type": "code",
   "execution_count": 33,
   "metadata": {},
   "outputs": [],
   "source": [
    "vector_db = FAISS.from_documents(documents=data,embedding=hf_embeddings)"
   ]
  },
  {
   "cell_type": "code",
   "execution_count": 34,
   "metadata": {},
   "outputs": [],
   "source": [
    "from langchain.chains.qa_with_sources.retrieval import RetrievalQAWithSourcesChain\n",
    "\n",
    "chain = RetrievalQAWithSourcesChain.from_llm(llm=llm, retriever= vector_db.as_retriever())\n",
    "            "
   ]
  },
  {
   "cell_type": "code",
   "execution_count": 48,
   "metadata": {},
   "outputs": [],
   "source": [
    "query = \"what is the article about?\""
   ]
  },
  {
   "cell_type": "code",
   "execution_count": 49,
   "metadata": {},
   "outputs": [],
   "source": [
    "result = chain({\"question\": query}, return_only_outputs=True)"
   ]
  },
  {
   "cell_type": "code",
   "execution_count": 50,
   "metadata": {},
   "outputs": [
    {
     "data": {
      "text/plain": [
       "'The article is about the quarterly performance of various companies, specifically Federal Bank, Honeywell Automation India, and Torrent Pharma.\\n\\n'"
      ]
     },
     "execution_count": 50,
     "metadata": {},
     "output_type": "execute_result"
    }
   ],
   "source": [
    "result[\"answer\"]"
   ]
  }
 ],
 "metadata": {
  "kernelspec": {
   "display_name": ".venv",
   "language": "python",
   "name": "python3"
  },
  "language_info": {
   "codemirror_mode": {
    "name": "ipython",
    "version": 3
   },
   "file_extension": ".py",
   "mimetype": "text/x-python",
   "name": "python",
   "nbconvert_exporter": "python",
   "pygments_lexer": "ipython3",
   "version": "3.10.0"
  }
 },
 "nbformat": 4,
 "nbformat_minor": 2
}
